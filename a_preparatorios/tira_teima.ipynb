{
 "cells": [
  {
   "cell_type": "code",
   "execution_count": 1,
   "metadata": {
    "vscode": {
     "languageId": "ruby"
    }
   },
   "outputs": [
    {
     "data": {
      "application/vnd.microsoft.datawrangler.viewer.v0+json": {
       "columns": [
        {
         "name": "index",
         "rawType": "int64",
         "type": "integer"
        },
        {
         "name": "CD_ESTADO",
         "rawType": "object",
         "type": "string"
        },
        {
         "name": "VL_PARC_CREDITO",
         "rawType": "float64",
         "type": "float"
        },
        {
         "name": "ANO",
         "rawType": "int32",
         "type": "integer"
        },
        {
         "name": "SAFRA",
         "rawType": "object",
         "type": "string"
        },
        {
         "name": "CD_CPF_CNPJ",
         "rawType": "object",
         "type": "string"
        },
        {
         "name": "SEXO_BIOLOGICO",
         "rawType": "object",
         "type": "string"
        }
       ],
       "conversionMethod": "pd.DataFrame",
       "ref": "053c1be0-a1c7-4da8-a88e-9f68a8927e13",
       "rows": [
        [
         "0",
         "SC",
         "30302.46",
         "2021",
         "2020/2021",
         "66837529072",
         "Masculino"
        ],
        [
         "1",
         "SP",
         "84349.08",
         "2021",
         "2020/2021",
         "03251808818",
         "Masculino"
        ],
        [
         "2",
         "MG",
         "10687.82",
         "2021",
         "2020/2021",
         "05194193831",
         "Feminino"
        ],
        [
         "3",
         "MG",
         "36890.2",
         "2021",
         "2020/2021",
         "04429997632",
         "Masculino"
        ],
        [
         "4",
         "MG",
         "31582.32",
         "2021",
         "2020/2021",
         "95235949668",
         "Masculino"
        ]
       ],
       "shape": {
        "columns": 6,
        "rows": 5
       }
      },
      "text/html": [
       "<div>\n",
       "<style scoped>\n",
       "    .dataframe tbody tr th:only-of-type {\n",
       "        vertical-align: middle;\n",
       "    }\n",
       "\n",
       "    .dataframe tbody tr th {\n",
       "        vertical-align: top;\n",
       "    }\n",
       "\n",
       "    .dataframe thead th {\n",
       "        text-align: right;\n",
       "    }\n",
       "</style>\n",
       "<table border=\"1\" class=\"dataframe\">\n",
       "  <thead>\n",
       "    <tr style=\"text-align: right;\">\n",
       "      <th></th>\n",
       "      <th>CD_ESTADO</th>\n",
       "      <th>VL_PARC_CREDITO</th>\n",
       "      <th>ANO</th>\n",
       "      <th>SAFRA</th>\n",
       "      <th>CD_CPF_CNPJ</th>\n",
       "      <th>SEXO_BIOLOGICO</th>\n",
       "    </tr>\n",
       "  </thead>\n",
       "  <tbody>\n",
       "    <tr>\n",
       "      <th>0</th>\n",
       "      <td>SC</td>\n",
       "      <td>30302.46</td>\n",
       "      <td>2021</td>\n",
       "      <td>2020/2021</td>\n",
       "      <td>66837529072</td>\n",
       "      <td>Masculino</td>\n",
       "    </tr>\n",
       "    <tr>\n",
       "      <th>1</th>\n",
       "      <td>SP</td>\n",
       "      <td>84349.08</td>\n",
       "      <td>2021</td>\n",
       "      <td>2020/2021</td>\n",
       "      <td>03251808818</td>\n",
       "      <td>Masculino</td>\n",
       "    </tr>\n",
       "    <tr>\n",
       "      <th>2</th>\n",
       "      <td>MG</td>\n",
       "      <td>10687.82</td>\n",
       "      <td>2021</td>\n",
       "      <td>2020/2021</td>\n",
       "      <td>05194193831</td>\n",
       "      <td>Feminino</td>\n",
       "    </tr>\n",
       "    <tr>\n",
       "      <th>3</th>\n",
       "      <td>MG</td>\n",
       "      <td>36890.20</td>\n",
       "      <td>2021</td>\n",
       "      <td>2020/2021</td>\n",
       "      <td>04429997632</td>\n",
       "      <td>Masculino</td>\n",
       "    </tr>\n",
       "    <tr>\n",
       "      <th>4</th>\n",
       "      <td>MG</td>\n",
       "      <td>31582.32</td>\n",
       "      <td>2021</td>\n",
       "      <td>2020/2021</td>\n",
       "      <td>95235949668</td>\n",
       "      <td>Masculino</td>\n",
       "    </tr>\n",
       "  </tbody>\n",
       "</table>\n",
       "</div>"
      ],
      "text/plain": [
       "  CD_ESTADO  VL_PARC_CREDITO   ANO      SAFRA  CD_CPF_CNPJ SEXO_BIOLOGICO\n",
       "0        SC         30302.46  2021  2020/2021  66837529072      Masculino\n",
       "1        SP         84349.08  2021  2020/2021  03251808818      Masculino\n",
       "2        MG         10687.82  2021  2020/2021  05194193831       Feminino\n",
       "3        MG         36890.20  2021  2020/2021  04429997632      Masculino\n",
       "4        MG         31582.32  2021  2020/2021  95235949668      Masculino"
      ]
     },
     "execution_count": 1,
     "metadata": {},
     "output_type": "execute_result"
    }
   ],
   "source": [
    "import pandas as pd\n",
    "\n",
    "# Carregar os dados do arquivo pronaf.csv\n",
    "#caminho_arquivo = 'data/pronaf.csv'\n",
    "#dados_pronaf = pd.read_csv(caminho_arquivo)\n",
    "dados_pronaf = pd.read_parquet(\"data/pronaf.parquet\")\n",
    "\n",
    "# Exibir as primeiras linhas do DataFrame\n",
    "dados_pronaf.head()"
   ]
  },
  {
   "cell_type": "code",
   "execution_count": 6,
   "metadata": {},
   "outputs": [
    {
     "name": "stdout",
     "output_type": "stream",
     "text": [
      "    ANO SEXO_BIOLOGICO  soma_vl_parc_credito  quantidade_operacoes  \\\n",
      "0  2021       Feminino          1.067089e+08                  2524   \n",
      "1  2021      Masculino          7.271704e+08                 14645   \n",
      "2  2022       Feminino          1.407033e+08                  2534   \n",
      "3  2022      Masculino          9.528852e+08                 14401   \n",
      "4  2023       Feminino          2.244880e+08                  3461   \n",
      "\n",
      "   quantidade_beneficiarios  \n",
      "0                      1721  \n",
      "1                      9476  \n",
      "2                      1730  \n",
      "3                      9467  \n",
      "4                      2225  \n"
     ]
    },
    {
     "data": {
      "application/vnd.microsoft.datawrangler.viewer.v0+json": {
       "columns": [
        {
         "name": "index",
         "rawType": "int64",
         "type": "integer"
        },
        {
         "name": "ANO",
         "rawType": "int32",
         "type": "integer"
        },
        {
         "name": "SEXO_BIOLOGICO",
         "rawType": "object",
         "type": "string"
        },
        {
         "name": "soma_vl_parc_credito",
         "rawType": "float64",
         "type": "float"
        },
        {
         "name": "quantidade_operacoes",
         "rawType": "int64",
         "type": "integer"
        },
        {
         "name": "quantidade_beneficiarios",
         "rawType": "int64",
         "type": "integer"
        }
       ],
       "conversionMethod": "pd.DataFrame",
       "ref": "1f621374-1518-4f67-b8a5-08efd0e9e908",
       "rows": [
        [
         "0",
         "2021",
         "Feminino",
         "106708909.04",
         "2524",
         "1721"
        ],
        [
         "1",
         "2021",
         "Masculino",
         "727170398.28",
         "14645",
         "9476"
        ],
        [
         "2",
         "2022",
         "Feminino",
         "140703321.42",
         "2534",
         "1730"
        ],
        [
         "3",
         "2022",
         "Masculino",
         "952885212.35",
         "14401",
         "9467"
        ],
        [
         "4",
         "2023",
         "Feminino",
         "224488003.46",
         "3461",
         "2225"
        ],
        [
         "5",
         "2023",
         "Masculino",
         "1449475096.8",
         "19860",
         "11784"
        ],
        [
         "6",
         "2024",
         "Feminino",
         "324657502.15",
         "4555",
         "2789"
        ],
        [
         "7",
         "2024",
         "Masculino",
         "1871697291.83",
         "23773",
         "13625"
        ],
        [
         "8",
         "2025",
         "Feminino",
         "35748484.62",
         "648",
         "459"
        ],
        [
         "9",
         "2025",
         "Masculino",
         "243614553.64",
         "3178",
         "2524"
        ]
       ],
       "shape": {
        "columns": 5,
        "rows": 10
       }
      },
      "text/html": [
       "<div>\n",
       "<style scoped>\n",
       "    .dataframe tbody tr th:only-of-type {\n",
       "        vertical-align: middle;\n",
       "    }\n",
       "\n",
       "    .dataframe tbody tr th {\n",
       "        vertical-align: top;\n",
       "    }\n",
       "\n",
       "    .dataframe thead th {\n",
       "        text-align: right;\n",
       "    }\n",
       "</style>\n",
       "<table border=\"1\" class=\"dataframe\">\n",
       "  <thead>\n",
       "    <tr style=\"text-align: right;\">\n",
       "      <th></th>\n",
       "      <th>ANO</th>\n",
       "      <th>SEXO_BIOLOGICO</th>\n",
       "      <th>soma_vl_parc_credito</th>\n",
       "      <th>quantidade_operacoes</th>\n",
       "      <th>quantidade_beneficiarios</th>\n",
       "    </tr>\n",
       "  </thead>\n",
       "  <tbody>\n",
       "    <tr>\n",
       "      <th>0</th>\n",
       "      <td>2021</td>\n",
       "      <td>Feminino</td>\n",
       "      <td>1.067089e+08</td>\n",
       "      <td>2524</td>\n",
       "      <td>1721</td>\n",
       "    </tr>\n",
       "    <tr>\n",
       "      <th>1</th>\n",
       "      <td>2021</td>\n",
       "      <td>Masculino</td>\n",
       "      <td>7.271704e+08</td>\n",
       "      <td>14645</td>\n",
       "      <td>9476</td>\n",
       "    </tr>\n",
       "    <tr>\n",
       "      <th>2</th>\n",
       "      <td>2022</td>\n",
       "      <td>Feminino</td>\n",
       "      <td>1.407033e+08</td>\n",
       "      <td>2534</td>\n",
       "      <td>1730</td>\n",
       "    </tr>\n",
       "    <tr>\n",
       "      <th>3</th>\n",
       "      <td>2022</td>\n",
       "      <td>Masculino</td>\n",
       "      <td>9.528852e+08</td>\n",
       "      <td>14401</td>\n",
       "      <td>9467</td>\n",
       "    </tr>\n",
       "    <tr>\n",
       "      <th>4</th>\n",
       "      <td>2023</td>\n",
       "      <td>Feminino</td>\n",
       "      <td>2.244880e+08</td>\n",
       "      <td>3461</td>\n",
       "      <td>2225</td>\n",
       "    </tr>\n",
       "    <tr>\n",
       "      <th>5</th>\n",
       "      <td>2023</td>\n",
       "      <td>Masculino</td>\n",
       "      <td>1.449475e+09</td>\n",
       "      <td>19860</td>\n",
       "      <td>11784</td>\n",
       "    </tr>\n",
       "    <tr>\n",
       "      <th>6</th>\n",
       "      <td>2024</td>\n",
       "      <td>Feminino</td>\n",
       "      <td>3.246575e+08</td>\n",
       "      <td>4555</td>\n",
       "      <td>2789</td>\n",
       "    </tr>\n",
       "    <tr>\n",
       "      <th>7</th>\n",
       "      <td>2024</td>\n",
       "      <td>Masculino</td>\n",
       "      <td>1.871697e+09</td>\n",
       "      <td>23773</td>\n",
       "      <td>13625</td>\n",
       "    </tr>\n",
       "    <tr>\n",
       "      <th>8</th>\n",
       "      <td>2025</td>\n",
       "      <td>Feminino</td>\n",
       "      <td>3.574848e+07</td>\n",
       "      <td>648</td>\n",
       "      <td>459</td>\n",
       "    </tr>\n",
       "    <tr>\n",
       "      <th>9</th>\n",
       "      <td>2025</td>\n",
       "      <td>Masculino</td>\n",
       "      <td>2.436146e+08</td>\n",
       "      <td>3178</td>\n",
       "      <td>2524</td>\n",
       "    </tr>\n",
       "  </tbody>\n",
       "</table>\n",
       "</div>"
      ],
      "text/plain": [
       "    ANO SEXO_BIOLOGICO  soma_vl_parc_credito  quantidade_operacoes  \\\n",
       "0  2021       Feminino          1.067089e+08                  2524   \n",
       "1  2021      Masculino          7.271704e+08                 14645   \n",
       "2  2022       Feminino          1.407033e+08                  2534   \n",
       "3  2022      Masculino          9.528852e+08                 14401   \n",
       "4  2023       Feminino          2.244880e+08                  3461   \n",
       "5  2023      Masculino          1.449475e+09                 19860   \n",
       "6  2024       Feminino          3.246575e+08                  4555   \n",
       "7  2024      Masculino          1.871697e+09                 23773   \n",
       "8  2025       Feminino          3.574848e+07                   648   \n",
       "9  2025      Masculino          2.436146e+08                  3178   \n",
       "\n",
       "   quantidade_beneficiarios  \n",
       "0                      1721  \n",
       "1                      9476  \n",
       "2                      1730  \n",
       "3                      9467  \n",
       "4                      2225  \n",
       "5                     11784  \n",
       "6                      2789  \n",
       "7                     13625  \n",
       "8                       459  \n",
       "9                      2524  "
      ]
     },
     "execution_count": 6,
     "metadata": {},
     "output_type": "execute_result"
    }
   ],
   "source": [
    "def filtrar_agregar_por_estado(dados, cd_estado):\n",
    "    \"\"\"\n",
    "    Filtra os dados pelo código do estado (CD_ESTADO) e realiza agregações:\n",
    "    - Soma do valor de crédito.\n",
    "    - Contagem total de operações.\n",
    "    - Número de beneficiários únicos.\n",
    "\n",
    "    Parâmetros:\n",
    "        dados (DataFrame): DataFrame com os dados do PRONAF.\n",
    "        cd_estado (str): Código do estado (ex: 'MG', 'SP', etc.).\n",
    "\n",
    "    Retorna:\n",
    "        DataFrame: Resultados agregados por ano, sexo biológico e safra.\n",
    "    \"\"\"\n",
    "    # Verifica se a coluna existe\n",
    "    if 'CD_ESTADO' not in dados.columns:\n",
    "        raise ValueError(\"A coluna 'CD_ESTADO' não foi encontrada no DataFrame.\")\n",
    "\n",
    "    # Filtra os dados\n",
    "    dados_filtrados = dados[dados['CD_ESTADO'] == cd_estado]\n",
    "\n",
    "    # Se nenhum dado for encontrado, retorna um DataFrame vazio com as colunas esperadas\n",
    "    if dados_filtrados.empty:\n",
    "        return pd.DataFrame(columns=['ANO', 'SEXO_BIOLOGICO', #'SAFRA', \n",
    "                                     'soma_vl_parc_credito', \n",
    "                                     'quantidade_operacoes', \n",
    "                                     'quantidade_beneficiarios'])\n",
    "\n",
    "    # Agregação\n",
    "    #resultado = dados_filtrados.groupby(['ANO', 'SEXO_BIOLOGICO', 'SAFRA']).agg(\n",
    "    resultado = dados_filtrados.groupby(['ANO', 'SEXO_BIOLOGICO']).agg(\n",
    "        soma_vl_parc_credito=('VL_PARC_CREDITO', 'sum'),\n",
    "        quantidade_operacoes=('CD_CPF_CNPJ', 'count'),\n",
    "        quantidade_beneficiarios=('CD_CPF_CNPJ', 'nunique')\n",
    "    ).reset_index()\n",
    "\n",
    "    return resultado\n",
    "\n",
    "resultado_agregado = filtrar_agregar_por_estado(dados_pronaf, 'ES')\n",
    "print(resultado_agregado.head())\n",
    "resultado_agregado"
   ]
  }
 ],
 "metadata": {
  "kernelspec": {
   "display_name": ".venv",
   "language": "python",
   "name": "python3"
  },
  "language_info": {
   "codemirror_mode": {
    "name": "ipython",
    "version": 3
   },
   "file_extension": ".py",
   "mimetype": "text/x-python",
   "name": "python",
   "nbconvert_exporter": "python",
   "pygments_lexer": "ipython3",
   "version": "3.12.4"
  }
 },
 "nbformat": 4,
 "nbformat_minor": 2
}
