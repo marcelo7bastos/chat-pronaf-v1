{
 "cells": [
  {
   "cell_type": "code",
   "execution_count": 1,
   "metadata": {},
   "outputs": [
    {
     "name": "stdout",
     "output_type": "stream",
     "text": [
      "  REF_BACEN NU_ORDEM   CNPJ_IF DT_EMISSAO DT_VENCIMENTO CD_INST_CREDITO  \\\n",
      "0      1102        1  00000000 2013-01-02    2014-01-02               1   \n",
      "1      1102        2  00000000 2013-01-02    2014-01-02               1   \n",
      "2      1103        1  00000000 2013-01-02    2014-01-02               8   \n",
      "3      1104        1  00000000 2013-01-02    2014-02-28               1   \n",
      "4      1105        1  07237373 2013-01-02    2018-01-02               2   \n",
      "\n",
      "  CD_CATEG_EMITENTE CD_FONTE_RECURSO CNPJ_AGENTE_INVEST CD_ESTADO  ...  \\\n",
      "0              3333             0300               None        GO  ...   \n",
      "1              3333             0300               None        GO  ...   \n",
      "2              2222             0300               None        SE  ...   \n",
      "3              3333             0300               None        PR  ...   \n",
      "4              5555             0502               None        SE  ...   \n",
      "\n",
      "  PC_BONUS_CAR MES SEMESTRE   ANO      SAFRA  \\\n",
      "0         None   1        1  2013  2012/2013   \n",
      "1         None   1        1  2013  2012/2013   \n",
      "2         None   1        1  2013  2012/2013   \n",
      "3         None   1        1  2013  2012/2013   \n",
      "4         None   1        1  2013  2012/2013   \n",
      "\n",
      "                                  PROGRAMA_DESCRICAO CD_IBGE_MUNICIPIO  \\\n",
      "0                                               None           5217203   \n",
      "1                                               None           5217203   \n",
      "2  PRONAF - PROGRAMA NACIONAL DE FORTALECIMENTO D...           2805604   \n",
      "3  PRONAMP - PROGRAMA NACIONAL DE APOIO AO MÉDIO ...           4103354   \n",
      "4    FINANCIAMENTO SEM VÍNCULO A PROGRAMA ESPECÍFICO           2803708   \n",
      "\n",
      "   CD_CPF_CNPJ SEXO_BIOLOGICO                     CD_DAP  \n",
      "0  82947813120       Feminino                       None  \n",
      "1  82947813120       Feminino                       None  \n",
      "2  03612747509      Masculino  SDW0036127475091312110334  \n",
      "3  60062894900      Masculino                       None  \n",
      "4  53219708587       Feminino                       None  \n",
      "\n",
      "[5 rows x 56 columns]\n"
     ]
    }
   ],
   "source": [
    "import pandas as pd\n",
    "import os\n",
    "\n",
    "# Caminho do arquivo\n",
    "caminho_arquivo = r\"C:\\Users\\marce\\OneDrive - Ministério da Agricultura e Pecuária\\LAB_DATA_MDA\\PRONAF_EXTRACT\\dados_prontos\\pronaf.parquet\"\n",
    "\n",
    "# Leitura do arquivo Parquet\n",
    "df = pd.read_parquet(caminho_arquivo)\n",
    "\n",
    "# Exibindo as primeiras linhas\n",
    "print(df.head())\n"
   ]
  },
  {
   "cell_type": "code",
   "execution_count": 2,
   "metadata": {
    "vscode": {
     "languageId": "shellscript"
    }
   },
   "outputs": [],
   "source": [
    "def tratar_dataframe(df, ano_filtro, cd_programa):\n",
    "    \"\"\"\n",
    "    Trata o dataframe filtrando por ano e programa, selecionando colunas específicas\n",
    "    e removendo valores zero na coluna VL_PARC_CREDITO.\n",
    "\n",
    "    Parâmetros:\n",
    "        df (pd.DataFrame): DataFrame a ser tratado.\n",
    "        ano_filtro (int): Ano mínimo para o filtro.\n",
    "\n",
    "    Retorno:\n",
    "        pd.DataFrame: DataFrame tratado.\n",
    "    \"\"\"\n",
    "    # Filtrar por ANO > ano_filtro e CD_PROGRAMA = '0001'\n",
    "    df_filtrado = df[(df['ANO'] > ano_filtro) & (df['CD_PROGRAMA'] == cd_programa)]\n",
    "\n",
    "    # Selecionar colunas\n",
    "    colunas_selecionadas = [\n",
    "        'CD_ESTADO', 'VL_PARC_CREDITO', 'ANO', 'SAFRA', 'CD_CPF_CNPJ', 'SEXO_BIOLOGICO'\n",
    "    ]\n",
    "    df_filtrado = df_filtrado[colunas_selecionadas]\n",
    "\n",
    "    # Remover valores zero em VL_PARC_CREDITO\n",
    "    df_filtrado['VL_PARC_CREDITO'] = pd.to_numeric(df_filtrado['VL_PARC_CREDITO'], errors='coerce')\n",
    "    df_filtrado = df_filtrado[df_filtrado['VL_PARC_CREDITO'] > 0]\n",
    "    # Tratamento dos dados (exemplo: remover valores nulos)\n",
    "    df_filtrado = df_filtrado.dropna()\n",
    "\n",
    "    return df_filtrado"
   ]
  },
  {
   "cell_type": "code",
   "execution_count": 11,
   "metadata": {},
   "outputs": [
    {
     "data": {
      "application/vnd.microsoft.datawrangler.viewer.v0+json": {
       "columns": [
        {
         "name": "index",
         "rawType": "int64",
         "type": "integer"
        },
        {
         "name": "CD_ESTADO",
         "rawType": "object",
         "type": "string"
        },
        {
         "name": "VL_PARC_CREDITO",
         "rawType": "float64",
         "type": "float"
        },
        {
         "name": "ANO",
         "rawType": "int32",
         "type": "integer"
        },
        {
         "name": "SAFRA",
         "rawType": "object",
         "type": "string"
        },
        {
         "name": "CD_CPF_CNPJ",
         "rawType": "object",
         "type": "string"
        },
        {
         "name": "SEXO_BIOLOGICO",
         "rawType": "object",
         "type": "string"
        }
       ],
       "conversionMethod": "pd.DataFrame",
       "ref": "ba1cf58a-1088-4ef9-9777-b6fa04cf4d5c",
       "rows": [
        [
         "17240339",
         "SC",
         "30302.46",
         "2021",
         "2020/2021",
         "66837529072",
         "Masculino"
        ],
        [
         "17240340",
         "SP",
         "84349.08",
         "2021",
         "2020/2021",
         "03251808818",
         "Masculino"
        ],
        [
         "17240341",
         "MG",
         "10687.82",
         "2021",
         "2020/2021",
         "05194193831",
         "Feminino"
        ],
        [
         "17240342",
         "MG",
         "36890.2",
         "2021",
         "2020/2021",
         "04429997632",
         "Masculino"
        ],
        [
         "17240343",
         "MG",
         "31582.32",
         "2021",
         "2020/2021",
         "95235949668",
         "Masculino"
        ],
        [
         "17240344",
         "MG",
         "48809.04",
         "2021",
         "2020/2021",
         "21260540634",
         "Masculino"
        ],
        [
         "17240345",
         "SP",
         "18997.24",
         "2021",
         "2020/2021",
         "01853964883",
         "Masculino"
        ],
        [
         "17240346",
         "BA",
         "17593.56",
         "2021",
         "2020/2021",
         "01782591524",
         "Masculino"
        ],
        [
         "17240347",
         "MG",
         "11845.94",
         "2021",
         "2020/2021",
         "07263916622",
         "Masculino"
        ],
        [
         "17240348",
         "PR",
         "27498.24",
         "2021",
         "2020/2021",
         "05417516970",
         "Masculino"
        ],
        [
         "17240349",
         "RO",
         "16614.44",
         "2021",
         "2020/2021",
         "51682400204",
         "Feminino"
        ],
        [
         "17240350",
         "MG",
         "70878.13",
         "2021",
         "2020/2021",
         "57493022615",
         "Masculino"
        ],
        [
         "17240351",
         "SC",
         "14239.54",
         "2021",
         "2020/2021",
         "92846971900",
         "Masculino"
        ],
        [
         "17240352",
         "MG",
         "11366.31",
         "2021",
         "2020/2021",
         "01363187627",
         "Feminino"
        ],
        [
         "17240353",
         "RJ",
         "30592.25",
         "2021",
         "2020/2021",
         "04184781713",
         "Masculino"
        ],
        [
         "17240354",
         "MG",
         "41093.1",
         "2021",
         "2020/2021",
         "12646893655",
         "Masculino"
        ],
        [
         "17240355",
         "MG",
         "62905.32",
         "2021",
         "2020/2021",
         "35785144620",
         "Masculino"
        ],
        [
         "17240356",
         "RO",
         "43516.11",
         "2021",
         "2020/2021",
         "61698440278",
         "Masculino"
        ],
        [
         "17240357",
         "RO",
         "13146.48",
         "2021",
         "2020/2021",
         "32538324220",
         "Masculino"
        ],
        [
         "17240358",
         "RO",
         "44698.03",
         "2021",
         "2020/2021",
         "87429500234",
         "Masculino"
        ],
        [
         "17240359",
         "PE",
         "25352.0",
         "2021",
         "2020/2021",
         "02153436460",
         "Masculino"
        ],
        [
         "17240360",
         "SP",
         "29530.33",
         "2021",
         "2020/2021",
         "08449935814",
         "Masculino"
        ],
        [
         "17240361",
         "RN",
         "12392.28",
         "2021",
         "2020/2021",
         "06249134492",
         "Masculino"
        ],
        [
         "17240362",
         "BA",
         "10466.52",
         "2021",
         "2020/2021",
         "23952652504",
         "Masculino"
        ],
        [
         "17240363",
         "BA",
         "8722.1",
         "2021",
         "2020/2021",
         "52609405553",
         "Masculino"
        ],
        [
         "17240364",
         "MT",
         "29226.33",
         "2021",
         "2020/2021",
         "97651770110",
         "Masculino"
        ],
        [
         "17240365",
         "MT",
         "165313.44",
         "2021",
         "2020/2021",
         "04609687186",
         "Masculino"
        ],
        [
         "17240366",
         "MG",
         "19333.77",
         "2021",
         "2020/2021",
         "18147810644",
         "Masculino"
        ],
        [
         "17240367",
         "RO",
         "22771.04",
         "2021",
         "2020/2021",
         "30758491204",
         "Masculino"
        ],
        [
         "17240368",
         "MG",
         "16174.08",
         "2021",
         "2020/2021",
         "64142400606",
         "Masculino"
        ],
        [
         "17240369",
         "MG",
         "8908.16",
         "2021",
         "2020/2021",
         "74723235604",
         "Masculino"
        ],
        [
         "17240370",
         "BA",
         "10025.34",
         "2021",
         "2020/2021",
         "08610054578",
         "Masculino"
        ],
        [
         "17240371",
         "MG",
         "23837.76",
         "2021",
         "2020/2021",
         "13462032615",
         "Masculino"
        ],
        [
         "17240372",
         "MG",
         "59265.0",
         "2021",
         "2020/2021",
         "08056974628",
         "Feminino"
        ],
        [
         "17240373",
         "MG",
         "52427.59",
         "2021",
         "2020/2021",
         "62617672620",
         "Masculino"
        ],
        [
         "17240374",
         "MG",
         "12423.4",
         "2021",
         "2020/2021",
         "60950129615",
         "Masculino"
        ],
        [
         "17240375",
         "MT",
         "26054.13",
         "2021",
         "2020/2021",
         "51468697153",
         "Masculino"
        ],
        [
         "17240376",
         "SC",
         "16767.96",
         "2021",
         "2020/2021",
         "03299122916",
         "Feminino"
        ],
        [
         "17240377",
         "SC",
         "10569.13",
         "2021",
         "2020/2021",
         "03299122916",
         "Feminino"
        ],
        [
         "17240378",
         "MG",
         "17606.64",
         "2021",
         "2020/2021",
         "03551333858",
         "Masculino"
        ],
        [
         "17240379",
         "SC",
         "21359.32",
         "2021",
         "2020/2021",
         "50323369987",
         "Masculino"
        ],
        [
         "17240380",
         "RS",
         "33013.26",
         "2021",
         "2020/2021",
         "68832214091",
         "Masculino"
        ],
        [
         "17240381",
         "MG",
         "106335.76",
         "2021",
         "2020/2021",
         "06188211638",
         "Masculino"
        ],
        [
         "17240382",
         "MS",
         "12188.69",
         "2021",
         "2020/2021",
         "03029906906",
         "Feminino"
        ],
        [
         "17240383",
         "MG",
         "31130.52",
         "2021",
         "2020/2021",
         "09407494675",
         "Masculino"
        ],
        [
         "17240384",
         "MG",
         "13555.08",
         "2021",
         "2020/2021",
         "02988864640",
         "Masculino"
        ],
        [
         "17240385",
         "GO",
         "77150.4",
         "2021",
         "2020/2021",
         "01037399633",
         "Masculino"
        ],
        [
         "17240386",
         "RO",
         "9582.52",
         "2021",
         "2020/2021",
         "77694104287",
         "Feminino"
        ],
        [
         "17240387",
         "MA",
         "9209.64",
         "2021",
         "2020/2021",
         "01448148383",
         "Masculino"
        ],
        [
         "17240388",
         "MG",
         "31804.29",
         "2021",
         "2020/2021",
         "04801382657",
         "Masculino"
        ]
       ],
       "shape": {
        "columns": 6,
        "rows": 6010154
       }
      },
      "text/html": [
       "<div>\n",
       "<style scoped>\n",
       "    .dataframe tbody tr th:only-of-type {\n",
       "        vertical-align: middle;\n",
       "    }\n",
       "\n",
       "    .dataframe tbody tr th {\n",
       "        vertical-align: top;\n",
       "    }\n",
       "\n",
       "    .dataframe thead th {\n",
       "        text-align: right;\n",
       "    }\n",
       "</style>\n",
       "<table border=\"1\" class=\"dataframe\">\n",
       "  <thead>\n",
       "    <tr style=\"text-align: right;\">\n",
       "      <th></th>\n",
       "      <th>CD_ESTADO</th>\n",
       "      <th>VL_PARC_CREDITO</th>\n",
       "      <th>ANO</th>\n",
       "      <th>SAFRA</th>\n",
       "      <th>CD_CPF_CNPJ</th>\n",
       "      <th>SEXO_BIOLOGICO</th>\n",
       "    </tr>\n",
       "  </thead>\n",
       "  <tbody>\n",
       "    <tr>\n",
       "      <th>17240339</th>\n",
       "      <td>SC</td>\n",
       "      <td>30302.46</td>\n",
       "      <td>2021</td>\n",
       "      <td>2020/2021</td>\n",
       "      <td>66837529072</td>\n",
       "      <td>Masculino</td>\n",
       "    </tr>\n",
       "    <tr>\n",
       "      <th>17240340</th>\n",
       "      <td>SP</td>\n",
       "      <td>84349.08</td>\n",
       "      <td>2021</td>\n",
       "      <td>2020/2021</td>\n",
       "      <td>03251808818</td>\n",
       "      <td>Masculino</td>\n",
       "    </tr>\n",
       "    <tr>\n",
       "      <th>17240341</th>\n",
       "      <td>MG</td>\n",
       "      <td>10687.82</td>\n",
       "      <td>2021</td>\n",
       "      <td>2020/2021</td>\n",
       "      <td>05194193831</td>\n",
       "      <td>Feminino</td>\n",
       "    </tr>\n",
       "    <tr>\n",
       "      <th>17240342</th>\n",
       "      <td>MG</td>\n",
       "      <td>36890.20</td>\n",
       "      <td>2021</td>\n",
       "      <td>2020/2021</td>\n",
       "      <td>04429997632</td>\n",
       "      <td>Masculino</td>\n",
       "    </tr>\n",
       "    <tr>\n",
       "      <th>17240343</th>\n",
       "      <td>MG</td>\n",
       "      <td>31582.32</td>\n",
       "      <td>2021</td>\n",
       "      <td>2020/2021</td>\n",
       "      <td>95235949668</td>\n",
       "      <td>Masculino</td>\n",
       "    </tr>\n",
       "    <tr>\n",
       "      <th>...</th>\n",
       "      <td>...</td>\n",
       "      <td>...</td>\n",
       "      <td>...</td>\n",
       "      <td>...</td>\n",
       "      <td>...</td>\n",
       "      <td>...</td>\n",
       "    </tr>\n",
       "    <tr>\n",
       "      <th>25936651</th>\n",
       "      <td>PR</td>\n",
       "      <td>100800.00</td>\n",
       "      <td>2025</td>\n",
       "      <td>2024/2025</td>\n",
       "      <td>73509965949</td>\n",
       "      <td>Masculino</td>\n",
       "    </tr>\n",
       "    <tr>\n",
       "      <th>25936652</th>\n",
       "      <td>PR</td>\n",
       "      <td>100800.00</td>\n",
       "      <td>2025</td>\n",
       "      <td>2024/2025</td>\n",
       "      <td>05265986979</td>\n",
       "      <td>Feminino</td>\n",
       "    </tr>\n",
       "    <tr>\n",
       "      <th>25936653</th>\n",
       "      <td>RS</td>\n",
       "      <td>65000.00</td>\n",
       "      <td>2025</td>\n",
       "      <td>2024/2025</td>\n",
       "      <td>70043752004</td>\n",
       "      <td>Masculino</td>\n",
       "    </tr>\n",
       "    <tr>\n",
       "      <th>25936655</th>\n",
       "      <td>PR</td>\n",
       "      <td>226980.00</td>\n",
       "      <td>2025</td>\n",
       "      <td>2024/2025</td>\n",
       "      <td>11119433975</td>\n",
       "      <td>Masculino</td>\n",
       "    </tr>\n",
       "    <tr>\n",
       "      <th>25936659</th>\n",
       "      <td>SP</td>\n",
       "      <td>99000.00</td>\n",
       "      <td>2025</td>\n",
       "      <td>2024/2025</td>\n",
       "      <td>13420894805</td>\n",
       "      <td>Feminino</td>\n",
       "    </tr>\n",
       "  </tbody>\n",
       "</table>\n",
       "<p>6010154 rows × 6 columns</p>\n",
       "</div>"
      ],
      "text/plain": [
       "         CD_ESTADO  VL_PARC_CREDITO   ANO      SAFRA  CD_CPF_CNPJ  \\\n",
       "17240339        SC         30302.46  2021  2020/2021  66837529072   \n",
       "17240340        SP         84349.08  2021  2020/2021  03251808818   \n",
       "17240341        MG         10687.82  2021  2020/2021  05194193831   \n",
       "17240342        MG         36890.20  2021  2020/2021  04429997632   \n",
       "17240343        MG         31582.32  2021  2020/2021  95235949668   \n",
       "...            ...              ...   ...        ...          ...   \n",
       "25936651        PR        100800.00  2025  2024/2025  73509965949   \n",
       "25936652        PR        100800.00  2025  2024/2025  05265986979   \n",
       "25936653        RS         65000.00  2025  2024/2025  70043752004   \n",
       "25936655        PR        226980.00  2025  2024/2025  11119433975   \n",
       "25936659        SP         99000.00  2025  2024/2025  13420894805   \n",
       "\n",
       "         SEXO_BIOLOGICO  \n",
       "17240339      Masculino  \n",
       "17240340      Masculino  \n",
       "17240341       Feminino  \n",
       "17240342      Masculino  \n",
       "17240343      Masculino  \n",
       "...                 ...  \n",
       "25936651      Masculino  \n",
       "25936652       Feminino  \n",
       "25936653      Masculino  \n",
       "25936655      Masculino  \n",
       "25936659       Feminino  \n",
       "\n",
       "[6010154 rows x 6 columns]"
      ]
     },
     "execution_count": 11,
     "metadata": {},
     "output_type": "execute_result"
    }
   ],
   "source": [
    "df_tratado = tratar_dataframe(df, 2020, \"0001\")\n",
    "df_tratado"
   ]
  },
  {
   "cell_type": "code",
   "execution_count": 12,
   "metadata": {},
   "outputs": [
    {
     "name": "stdout",
     "output_type": "stream",
     "text": [
      "Arquivo salvo em: data/pronaf.csv\n",
      "Arquivo Parquet salvo em: data/pronaf.parquet\n"
     ]
    }
   ],
   "source": [
    "# Salvar o arquivo tratado como CSV\n",
    "output_path = \"data/pronaf.csv\"\n",
    "df_tratado.to_csv(output_path, index=False)\n",
    "\n",
    "print(f\"Arquivo salvo em: {output_path}\")\n",
    "\n",
    "# Salvar o arquivo tratado como Parquet\n",
    "parquet_output_path = \"data/pronaf.parquet\"\n",
    "df_tratado.to_parquet(parquet_output_path, index=False)\n",
    "print(f\"Arquivo Parquet salvo em: {parquet_output_path}\")"
   ]
  },
  {
   "cell_type": "code",
   "execution_count": null,
   "metadata": {},
   "outputs": [
    {
     "name": "stdout",
     "output_type": "stream",
     "text": [
      "Arquivo CSV salvo em: data/pronaf.csv\n",
      "Arquivo Parquet salvo em: data/pronaf.parquet\n",
      "Alerta: O arquivo data/pronaf.csv ultrapassou 100 MB (277.01 MB).\n",
      "O arquivo data/pronaf.parquet tem 73.30 MB e está dentro do limite.\n"
     ]
    }
   ],
   "source": [
    "import os\n",
    "import pandas as pd\n",
    "\n",
    "# Caminhos dos arquivos\n",
    "#csv_output_path = \"data/pronaf.csv\"\n",
    "parquet_output_path = \"data/pronaf.parquet\"\n",
    "\n",
    "# Salvar como CSV\n",
    "#df_tratado.to_csv(csv_output_path, index=False)\n",
    "#print(f\"Arquivo CSV salvo em: {csv_output_path}\")\n",
    "\n",
    "# Salvar como Parquet\n",
    "df_tratado.to_parquet(parquet_output_path, index=False)\n",
    "print(f\"Arquivo Parquet salvo em: {parquet_output_path}\")\n",
    "\n",
    "# Função para verificar e exibir o tamanho do arquivo\n",
    "def exibir_tamanho_arquivo(caminho_arquivo, limite_mb=100):\n",
    "    file_size = os.path.getsize(caminho_arquivo)\n",
    "    file_size_mb = file_size / (1024 * 1024)\n",
    "    if file_size_mb > limite_mb:\n",
    "        print(f\"Alerta: O arquivo {caminho_arquivo} ultrapassou {limite_mb} MB ({file_size_mb:.2f} MB).\")\n",
    "    else:\n",
    "        print(f\"O arquivo {caminho_arquivo} tem {file_size_mb:.2f} MB e está dentro do limite.\")\n",
    "\n",
    "# Verificar tamanho dos arquivos\n",
    "#exibir_tamanho_arquivo(csv_output_path)\n",
    "exibir_tamanho_arquivo(parquet_output_path)\n"
   ]
  }
 ],
 "metadata": {
  "kernelspec": {
   "display_name": ".venv",
   "language": "python",
   "name": "python3"
  },
  "language_info": {
   "codemirror_mode": {
    "name": "ipython",
    "version": 3
   },
   "file_extension": ".py",
   "mimetype": "text/x-python",
   "name": "python",
   "nbconvert_exporter": "python",
   "pygments_lexer": "ipython3",
   "version": "3.12.4"
  }
 },
 "nbformat": 4,
 "nbformat_minor": 2
}
